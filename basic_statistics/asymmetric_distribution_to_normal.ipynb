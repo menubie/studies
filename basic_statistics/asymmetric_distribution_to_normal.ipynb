{
 "cells": [
  {
   "cell_type": "markdown",
   "metadata": {},
   "source": [
    "## Objetivo: Normalizar uma distribuição assimétrica\n",
    "\n",
    "Utilizar métodos de normalização apresentados no livro Estatística Básica do Bussab&Morettin, e comparar qual foi o melhor resultado.\n",
    "\n",
    "Além disso, tentar entender o que estamos perdendo de informação quando estamos realizando essa operação de normalização.\n",
    "\n",
    "Por que normalizamos: Para diminuir o peso dos outliers existentes, e pois muitos métodos estatísticos tem como premissa de que a variável que está sendo estudada tem o comportamento de uma normal.\n",
    "\n",
    "**Legenda** \n",
    "\n",
    "**[ ? ]** Dúvidas para sanar"
   ]
  },
  {
   "cell_type": "code",
   "execution_count": 5,
   "metadata": {},
   "outputs": [],
   "source": [
    "import numpy as np\n",
    "import pandas as pd\n",
    "import matplotlib\n",
    "\n",
    "%matplotlib inline\n",
    "pd.options.display.float_format = '{:20,.2f}'.format"
   ]
  },
  {
   "cell_type": "markdown",
   "metadata": {},
   "source": [
    "### Estudando a distribuição"
   ]
  },
  {
   "cell_type": "markdown",
   "metadata": {},
   "source": [
    "Escolhi a distribuição Beta para normalizar, pois ela é assimétrica à direita.\n",
    "\n",
    "**[ ? ]** O que os parâmetros alpha e beta estão fazendo aqui nessa função?"
   ]
  },
  {
   "cell_type": "code",
   "execution_count": 2,
   "metadata": {},
   "outputs": [],
   "source": [
    "s = pd.Series(np.random.beta(1, 10, size=10000))"
   ]
  },
  {
   "cell_type": "markdown",
   "metadata": {},
   "source": [
    "O parâmetro `bins` se refere a quantidade de classes que serão criadas para plotar o histograma. Quanto maior o número, mais detalhado o histograma é, e menor o valor do eixo y, pois a frequência de cada classe irá diminuir. \n",
    "\n",
    "**[ ? ]** O parâmetro `normed` por sua vez causa dúvidas! Achava que significa deixar a média igual a 0... Mas vejo mudanças no eixo y quado coloco `normed=True` e não no eixo x..."
   ]
  },
  {
   "cell_type": "code",
   "execution_count": 3,
   "metadata": {},
   "outputs": [
    {
     "data": {
      "text/plain": [
       "<matplotlib.axes._subplots.AxesSubplot at 0x7f90ed5a2128>"
      ]
     },
     "execution_count": 3,
     "metadata": {},
     "output_type": "execute_result"
    },
    {
     "data": {
      "image/png": "[encoded data removed]",
      "text/plain": [
       "<matplotlib.figure.Figure at 0x7f9121bb5128>"
      ]
     },
     "metadata": {},
     "output_type": "display_data"
    }
   ],
   "source": [
    "s.plot(bins=500, kind='hist', title='Distribuição Beta assimétrica à direita', figsize=(10,5))"
   ]
  },
  {
   "cell_type": "code",
   "execution_count": 6,
   "metadata": {},
   "outputs": [
    {
     "data": {
      "text/plain": [
       "count              10,000.00\n",
       "mean                    0.09\n",
       "std                     0.08\n",
       "min                     0.00\n",
       "25%                     0.03\n",
       "50%                     0.07\n",
       "75%                     0.13\n",
       "max                     0.62\n",
       "dtype: float64"
      ]
     },
     "execution_count": 6,
     "metadata": {},
     "output_type": "execute_result"
    }
   ],
   "source": [
    "s.describe()"
   ]
  },
  {
   "cell_type": "markdown",
   "metadata": {},
   "source": [
    "Lembrando que o Limite Inferior (LI) do _box plot_ é definido por `(1o quartil) - (1.5 * (3o quartil - 1o quartil))` e o Limite Superior (LS) é definido por `(3o quartil) + (1.5 * (3o quartil - 1o quartil))`.\n",
    "\n",
    "Nesse caso: LS: `0.13+(1.5*0.10) = 0.28` e LI: `0.03-(1.5*0.10) = -0.12`. No caso do LI, como o resultado é menor que o valor mínimo da variável, deixamos no _box plot_ o valor mínimo que é 0."
   ]
  },
  {
   "cell_type": "code",
   "execution_count": 9,
   "metadata": {},
   "outputs": [
    {
     "data": {
      "text/plain": [
       "<matplotlib.axes._subplots.AxesSubplot at 0x7f90ebef1208>"
      ]
     },
     "execution_count": 9,
     "metadata": {},
     "output_type": "execute_result"
    },
    {
     "data": {
      "image/png": "[encoded data removed]",
      "text/plain": [
       "<matplotlib.figure.Figure at 0x7f90ebec58d0>"
      ]
     },
     "metadata": {},
     "output_type": "display_data"
    }
   ],
   "source": [
    "pd.DataFrame(s).boxplot()"
   ]
  },
  {
   "cell_type": "markdown",
   "metadata": {},
   "source": [
    "### Transformação\n",
    "\n",
    "Vamos escolher os seguintes valores para p: \n",
    "\n",
    "```\n",
    "p=0, p=1/4, p=1/2 e p=1/3\n",
    "```\n",
    "\n",
    "**[ ? ]** O autor não deixa explícito no livro a razão da a escolha desses valores. Sabemos justificar? Além disso, por quê temos as seguintes regras de transformação:\n",
    "\n",
    "```\n",
    "Para p>0, x**p\n",
    "Para p=0, ln(x)\n",
    "Para p<0, -x**p\n",
    "```"
   ]
  },
  {
   "cell_type": "code",
   "execution_count": 14,
   "metadata": {},
   "outputs": [],
   "source": [
    "df = pd.DataFrame(s)\n",
    "df.columns = ['beta_dist']"
   ]
  },
  {
   "cell_type": "code",
   "execution_count": 15,
   "metadata": {},
   "outputs": [],
   "source": [
    "import math"
   ]
  },
  {
   "cell_type": "code",
   "execution_count": 16,
   "metadata": {},
   "outputs": [],
   "source": [
    "df['p_0'] = df.beta_dist.map(lambda x: math.log(x))\n",
    "df['p_1_4'] = df.beta_dist.map(lambda x: x**0.25)\n",
    "df['p_1_2'] = df.beta_dist.map(lambda x: x**0.50)\n",
    "df['p_1_3'] = df.beta_dist.map(lambda x: x**0.333)"
   ]
  },
  {
   "cell_type": "markdown",
   "metadata": {},
   "source": [
    "### Análise dos resultados"
   ]
  },
  {
   "cell_type": "code",
   "execution_count": 17,
   "metadata": {},
   "outputs": [
    {
     "data": {
      "text/plain": [
       "<matplotlib.axes._subplots.AxesSubplot at 0x7f90ec2efa90>"
      ]
     },
     "execution_count": 17,
     "metadata": {},
     "output_type": "execute_result"
    },
    {
     "data": {
      "image/png": "[encoded data removed]",
      "text/plain": [
       "<matplotlib.figure.Figure at 0x7f90ec310f98>"
      ]
     },
     "metadata": {},
     "output_type": "display_data"
    }
   ],
   "source": [
    "df.boxplot(figsize=(10,5))"
   ]
  },
  {
   "cell_type": "code",
   "execution_count": 18,
   "metadata": {},
   "outputs": [
    {
     "data": {
      "text/html": [
       "<div>\n",
       "<style scoped>\n",
       "    .dataframe tbody tr th:only-of-type {\n",
       "        vertical-align: middle;\n",
       "    }\n",
       "\n",
       "    .dataframe tbody tr th {\n",
       "        vertical-align: top;\n",
       "    }\n",
       "\n",
       "    .dataframe thead th {\n",
       "        text-align: right;\n",
       "    }\n",
       "</style>\n",
       "<table border=\"1\" class=\"dataframe\">\n",
       "  <thead>\n",
       "    <tr style=\"text-align: right;\">\n",
       "      <th></th>\n",
       "      <th>beta_dist</th>\n",
       "      <th>p_0</th>\n",
       "      <th>p_1_4</th>\n",
       "      <th>p_1_2</th>\n",
       "      <th>p_1_3</th>\n",
       "    </tr>\n",
       "  </thead>\n",
       "  <tbody>\n",
       "    <tr>\n",
       "      <th>count</th>\n",
       "      <td>10,000.00</td>\n",
       "      <td>10,000.00</td>\n",
       "      <td>10,000.00</td>\n",
       "      <td>10,000.00</td>\n",
       "      <td>10,000.00</td>\n",
       "    </tr>\n",
       "    <tr>\n",
       "      <th>mean</th>\n",
       "      <td>0.09</td>\n",
       "      <td>-2.93</td>\n",
       "      <td>0.50</td>\n",
       "      <td>0.27</td>\n",
       "      <td>0.41</td>\n",
       "    </tr>\n",
       "    <tr>\n",
       "      <th>std</th>\n",
       "      <td>0.08</td>\n",
       "      <td>1.24</td>\n",
       "      <td>0.13</td>\n",
       "      <td>0.13</td>\n",
       "      <td>0.14</td>\n",
       "    </tr>\n",
       "    <tr>\n",
       "      <th>min</th>\n",
       "      <td>0.00</td>\n",
       "      <td>-13.88</td>\n",
       "      <td>0.03</td>\n",
       "      <td>0.00</td>\n",
       "      <td>0.01</td>\n",
       "    </tr>\n",
       "    <tr>\n",
       "      <th>25%</th>\n",
       "      <td>0.03</td>\n",
       "      <td>-3.56</td>\n",
       "      <td>0.41</td>\n",
       "      <td>0.17</td>\n",
       "      <td>0.31</td>\n",
       "    </tr>\n",
       "    <tr>\n",
       "      <th>50%</th>\n",
       "      <td>0.07</td>\n",
       "      <td>-2.70</td>\n",
       "      <td>0.51</td>\n",
       "      <td>0.26</td>\n",
       "      <td>0.41</td>\n",
       "    </tr>\n",
       "    <tr>\n",
       "      <th>75%</th>\n",
       "      <td>0.13</td>\n",
       "      <td>-2.05</td>\n",
       "      <td>0.60</td>\n",
       "      <td>0.36</td>\n",
       "      <td>0.51</td>\n",
       "    </tr>\n",
       "    <tr>\n",
       "      <th>max</th>\n",
       "      <td>0.62</td>\n",
       "      <td>-0.48</td>\n",
       "      <td>0.89</td>\n",
       "      <td>0.79</td>\n",
       "      <td>0.85</td>\n",
       "    </tr>\n",
       "  </tbody>\n",
       "</table>\n",
       "</div>"
      ],
      "text/plain": [
       "                 beta_dist                  p_0                p_1_4  \\\n",
       "count            10,000.00            10,000.00            10,000.00   \n",
       "mean                  0.09                -2.93                 0.50   \n",
       "std                   0.08                 1.24                 0.13   \n",
       "min                   0.00               -13.88                 0.03   \n",
       "25%                   0.03                -3.56                 0.41   \n",
       "50%                   0.07                -2.70                 0.51   \n",
       "75%                   0.13                -2.05                 0.60   \n",
       "max                   0.62                -0.48                 0.89   \n",
       "\n",
       "                     p_1_2                p_1_3  \n",
       "count            10,000.00            10,000.00  \n",
       "mean                  0.27                 0.41  \n",
       "std                   0.13                 0.14  \n",
       "min                   0.00                 0.01  \n",
       "25%                   0.17                 0.31  \n",
       "50%                   0.26                 0.41  \n",
       "75%                   0.36                 0.51  \n",
       "max                   0.79                 0.85  "
      ]
     },
     "execution_count": 18,
     "metadata": {},
     "output_type": "execute_result"
    }
   ],
   "source": [
    "df.describe()"
   ]
  },
  {
   "cell_type": "code",
   "execution_count": 19,
   "metadata": {},
   "outputs": [
    {
     "data": {
      "text/plain": [
       "<matplotlib.axes._subplots.AxesSubplot at 0x7f90ebf8ce80>"
      ]
     },
     "execution_count": 19,
     "metadata": {},
     "output_type": "execute_result"
    },
    {
     "data": {
      "image/png": "[encoded data removed]",
      "text/plain": [
       "<matplotlib.figure.Figure at 0x7f90ebfc8f60>"
      ]
     },
     "metadata": {},
     "output_type": "display_data"
    }
   ],
   "source": [
    "df.plot(kind='hist', alpha=0.6, bins=100, figsize=(20,10),\n",
    "        title='Distribuição beta normalizada - Comparando diferentes valores de `p`')"
   ]
  },
  {
   "cell_type": "code",
   "execution_count": 20,
   "metadata": {},
   "outputs": [],
   "source": [
    "# Tentativa da criação de um Gráfico de Simetria\n",
    "\n",
    "# df_beta_dist_median = df.beta_dist.median()\n",
    "# df_u = df[df.beta_dist < df_beta_dist_median][['beta_dist']].copy()\n",
    "# df_v = df[df.beta_dist > df_beta_dist_median][['beta_dist']].copy()\n",
    "\n",
    "# df_u['u_distance'] = df_u.beta_dist.map(lambda x: abs(x-df_beta_dist_median))\n",
    "# df_v['v_distance'] = df_v.beta_dist.map(lambda x: abs(x-df_beta_dist_median))\n",
    "\n",
    "# df_distance = pd.concat([df_u, df_v], axis=0)\n",
    "# df_distance"
   ]
  },
  {
   "cell_type": "markdown",
   "metadata": {},
   "source": [
    "## Conclusão\n",
    "\n",
    "Olhando as médias obtidas e os gráficos, é possível ver que ainda temos outliers, mas aparentemente o valor de `p=0` traz uma distribuição mais simétrica e esparramada. **[ ? ]** De qualquer forma, ainda tenho dúvida se é possível concluir isso de fato."
   ]
  },
  {
   "cell_type": "code",
   "execution_count": null,
   "metadata": {},
   "outputs": [],
   "source": []
  }
 ],
 "metadata": {
  "kernelspec": {
   "display_name": "Python 3",
   "language": "python",
   "name": "python3"
  },
  "language_info": {
   "codemirror_mode": {
    "name": "ipython",
    "version": 3
   },
   "file_extension": ".py",
   "mimetype": "text/x-python",
   "name": "python",
   "nbconvert_exporter": "python",
   "pygments_lexer": "ipython3",
   "version": "3.5.3"
  }
 },
 "nbformat": 4,
 "nbformat_minor": 2
}
