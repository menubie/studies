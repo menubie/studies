{
 "cells": [
  {
   "cell_type": "markdown",
   "metadata": {},
   "source": [
    "#### _Distributions_\n",
    "* Most common representation: Histograms, that shows the frequency of each value;\n",
    "* O que pode ser iteressante notar quando estamos olhando para uma distribuição em um histograma?\n",
    " * Tendência central: Os dados convergem para um ponto específico? Boa medida: Mean.\n",
    "   * Não entendi a distinção que o autor coloca entre average e mean. Só posso falar de average se minha variância é pequena?\n",
    " * Moda: Existe mais de uma?\n",
    " * Spread: Os dados variam/dispersam muito?\n",
    " * Tails: O quão rápido as probabilidades caem conforme vamos andando mais para longe do centro?\n",
    " * Outliers:\n",
    " * O que mais eu procuro enxergar quando estou olhando para um histograma? \n",
    "    \n",
    "\n",
    "#### _Probability mass functions_\n",
    "\n",
    "* Which is also called PMF\n",
    "* Pensando que queremos comparar duas distribuções através de um hstograma. Isso poderá gerar connfusão pois o que pensamos ser uma diferença válida para um determinado intervalo, significa apenas que as amostras tem tamanhos diferentes, mas não uma distribuição diferente. Sendo assim, o PMF ...\n",
    "\n",
    "####  _Cumulative distribution functions_\n",
    "\n",
    "* Which is also called CDF\n",
    "\n",
    "####  _Probability density functions_\n",
    "\n",
    "PDF (ou FDP) é a derivada de uma CDF (FDA)\n",
    "\n",
    "* O que é a derivada?\n",
    "* O que é densidade?\n"
   ]
  },
  {
   "cell_type": "markdown",
   "metadata": {},
   "source": [
    "## Types of parameters\n",
    "* Shape parameter\n",
    "* Scale paramter\n",
    "* Bla (?) parameter\n",
    "\n",
    "## References \n",
    "* http://greenteapress.com/thinkstats2/thinkstats2.pdf\n",
    "* https://en.wikipedia.org/wiki/List_of_probability_distributions"
   ]
  },
  {
   "cell_type": "markdown",
   "metadata": {},
   "source": [
    "## Probability Distributions \n",
    "\n",
    "### Continuous distributions"
   ]
  },
  {
   "cell_type": "markdown",
   "metadata": {},
   "source": [
    "**1. Supported on the whole real line**"
   ]
  },
  {
   "cell_type": "markdown",
   "metadata": {},
   "source": [
    "1.1 The normal distribution (also called Gaussian or the bell curve) \n",
    "* Do not have a *shape parameter*, in other words, their shape is fixed and only their location or their scale or both can change.\n",
    "* Distribuição simétrica"
   ]
  },
  {
   "cell_type": "code",
   "execution_count": 3,
   "metadata": {
    "collapsed": true
   },
   "outputs": [],
   "source": [
    "import matplotlib.pyplot as plt\n",
    "import matplotlib.mlab as mlab\n",
    "import math\n",
    "import numpy as np"
   ]
  },
  {
   "cell_type": "code",
   "execution_count": 60,
   "metadata": {},
   "outputs": [
    {
     "data": {
      "image/png": "[encoded data removed]",
      "text/plain": [
       "<matplotlib.figure.Figure at 0x7f627cbfc4e0>"
      ]
     },
     "metadata": {},
     "output_type": "display_data"
    }
   ],
   "source": [
    "mu = 0 # (parâmetro de posição)\n",
    "variance = 1 # (parâmetro de escalonamento)\n",
    "sigma = math.sqrt(variance)\n",
    "x = np.linspace(mu-5*variance,mu+5*variance, 100)\n",
    "plt.plot(x,mlab.normpdf(x, mu, sigma))\n",
    "\n",
    "plt.show()"
   ]
  },
  {
   "cell_type": "markdown",
   "metadata": {},
   "source": [
    "1.2 T-Student distribution"
   ]
  },
  {
   "cell_type": "markdown",
   "metadata": {},
   "source": [
    "1.3 Laplace distribution"
   ]
  },
  {
   "cell_type": "markdown",
   "metadata": {},
   "source": [
    "**2. Supported on a bounded interval** "
   ]
  },
  {
   "cell_type": "markdown",
   "metadata": {},
   "source": [
    "2.1 Beta distribution\n",
    "* Parametrized by two positive shape parameters, denoted by α and β, that appear as exponents of the random variable and control the shape of the distribution;\n",
    "* Defined on the interval [0, 1]; \n",
    "* **Usage:**  The beta distribution is a suitable model for the random behavior of percentages and proportions. That's because ____."
   ]
  },
  {
   "cell_type": "code",
   "execution_count": 71,
   "metadata": {
    "collapsed": true
   },
   "outputs": [],
   "source": [
    "from scipy.stats import beta\n",
    "import matplotlib.pyplot as plt\n",
    "fig, ax = plt.subplots(1, 1)"
   ]
  },
  {
   "cell_type": "code",
   "execution_count": 72,
   "metadata": {
    "collapsed": true
   },
   "outputs": [],
   "source": [
    "a, b = 2.30984964515, 0.62687954301"
   ]
  },
  {
   "cell_type": "code",
   "execution_count": 73,
   "metadata": {
    "collapsed": true
   },
   "outputs": [],
   "source": [
    "mean, var, skew, kurt = beta.stats(a, b, moments='mvsk')"
   ]
  },
  {
   "cell_type": "code",
   "execution_count": 75,
   "metadata": {
    "collapsed": true
   },
   "outputs": [],
   "source": [
    "x = np.linspace(beta.ppf(0.01, a, b), beta.ppf(0.99, a, b), 100)"
   ]
  },
  {
   "cell_type": "code",
   "execution_count": 76,
   "metadata": {},
   "outputs": [
    {
     "data": {
      "text/plain": [
       "[<matplotlib.lines.Line2D at 0x7f62aa7c4c88>]"
      ]
     },
     "execution_count": 76,
     "metadata": {},
     "output_type": "execute_result"
    }
   ],
   "source": [
    "ax.plot(x, beta.pdf(x, a, b), 'r-', lw=5, alpha=0.6, label='beta pdf')"
   ]
  },
  {
   "cell_type": "code",
   "execution_count": 77,
   "metadata": {
    "collapsed": true
   },
   "outputs": [],
   "source": [
    "rv = beta(a, b)"
   ]
  },
  {
   "cell_type": "code",
   "execution_count": 78,
   "metadata": {},
   "outputs": [
    {
     "data": {
      "text/plain": [
       "[<matplotlib.lines.Line2D at 0x7f62aa7cc860>]"
      ]
     },
     "execution_count": 78,
     "metadata": {},
     "output_type": "execute_result"
    }
   ],
   "source": [
    "ax.plot(x, rv.pdf(x), 'k-', lw=2, label='frozen pdf')"
   ]
  },
  {
   "cell_type": "code",
   "execution_count": 79,
   "metadata": {
    "collapsed": true
   },
   "outputs": [],
   "source": [
    "vals = beta.ppf([0.001, 0.5, 0.999], a, b)"
   ]
  },
  {
   "cell_type": "code",
   "execution_count": 80,
   "metadata": {},
   "outputs": [
    {
     "data": {
      "text/plain": [
       "True"
      ]
     },
     "execution_count": 80,
     "metadata": {},
     "output_type": "execute_result"
    }
   ],
   "source": [
    "np.allclose([0.001, 0.5, 0.999], beta.cdf(vals, a, b))"
   ]
  },
  {
   "cell_type": "code",
   "execution_count": 81,
   "metadata": {
    "collapsed": true
   },
   "outputs": [],
   "source": [
    "r = beta.rvs(a, b, size=1000)"
   ]
  },
  {
   "cell_type": "code",
   "execution_count": 82,
   "metadata": {},
   "outputs": [
    {
     "data": {
      "text/plain": [
       "(array([ 0.09863314,  0.13151085,  0.19726628,  0.43836951,  0.4931657 ,\n",
       "         1.00824988,  1.04112759,  1.34798625,  1.93978509,  4.2631435 ]),\n",
       " array([ 0.08752463,  0.17877186,  0.27001908,  0.3612663 ,  0.45251352,\n",
       "         0.54376074,  0.63500796,  0.72625519,  0.81750241,  0.90874963,\n",
       "         0.99999685]),\n",
       " <a list of 1 Patch objects>)"
      ]
     },
     "execution_count": 82,
     "metadata": {},
     "output_type": "execute_result"
    }
   ],
   "source": [
    "ax.hist(r, normed=True, histtype='stepfilled', alpha=0.2)"
   ]
  },
  {
   "cell_type": "code",
   "execution_count": 83,
   "metadata": {},
   "outputs": [
    {
     "data": {
      "text/plain": [
       "<matplotlib.legend.Legend at 0x7f627cf310b8>"
      ]
     },
     "execution_count": 83,
     "metadata": {},
     "output_type": "execute_result"
    }
   ],
   "source": [
    "ax.legend(loc='best', frameon=False)"
   ]
  },
  {
   "cell_type": "code",
   "execution_count": 84,
   "metadata": {},
   "outputs": [
    {
     "data": {
      "image/png": "[encoded data removed]",
      "text/plain": [
       "<matplotlib.figure.Figure at 0x7f62aa80ffd0>"
      ]
     },
     "metadata": {},
     "output_type": "display_data"
    }
   ],
   "source": [
    "plt.show()"
   ]
  },
  {
   "cell_type": "markdown",
   "metadata": {},
   "source": [
    "**3. Supported on semi-infinite intervals, usually [0,∞)**"
   ]
  },
  {
   "cell_type": "markdown",
   "metadata": {},
   "source": [
    "3.1 The Weibull distribution \n",
    "* Parametrized by one shape parameter and a scale parameter\n",
    "* **Usage:** Is used to model the lifetime of technical devices"
   ]
  },
  {
   "cell_type": "code",
   "execution_count": null,
   "metadata": {
    "collapsed": true
   },
   "outputs": [],
   "source": []
  }
 ],
 "metadata": {
  "kernelspec": {
   "display_name": "Python 3",
   "language": "python",
   "name": "python3"
  },
  "language_info": {
   "codemirror_mode": {
    "name": "ipython",
    "version": 3
   },
   "file_extension": ".py",
   "mimetype": "text/x-python",
   "name": "python",
   "nbconvert_exporter": "python",
   "pygments_lexer": "ipython3",
   "version": "3.5.2"
  }
 },
 "nbformat": 4,
 "nbformat_minor": 2
}
