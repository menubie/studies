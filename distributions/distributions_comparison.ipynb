{
 "cells": [
  {
   "cell_type": "code",
   "execution_count": 1,
   "metadata": {},
   "outputs": [],
   "source": [
    "%matplotlib inline\n",
    "\n",
    "import numpy as np\n",
    "import pandas as pd"
   ]
  },
  {
   "cell_type": "markdown",
   "metadata": {},
   "source": [
    "# Notes & Questions\n",
    "\n",
    "## 1. Supported on semi-infinite intervals, usually [0,∞)\n",
    "\n",
    "### 1.1 Exponential Distribution \n",
    "\n",
    "#### Notes\n",
    "\n",
    "1. The higher the size sample, the greater is the shape of the plot (is closer to the known pattern) \n",
    "1. CDF(x) = 1 - e^(-λx)\n",
    "1. PDF(x) = expon.pdf(x) = exp(-x) < Isso no SciPy\n",
    "\n",
    "#### Questions\n",
    "\n",
    "1. Is the growth ratio equivalent to the rate parameter?\n",
    "1. If we have a fixed and unique 'growth ratio', what is the factor that determines when the curve growth repentinaly?\n",
    "1. Where is common to see this kind of distribution?\n",
    "1. What is the function of scale parameter in the function `np.random.exponential`?\n",
    "1. Why the relation λ = 1/β is valid? (λ is rate parameter and β is the scale parameter)\n",
    "1. What is the PDF (probability density function)? \n",
    "1. The complement of CDF(x), the CCDF(x) is 1 - CDF(x). Why we use it?\n",
    "1. We know that the exponential function is defined by f(x) = A(r^x), where `A` is the initial value, `r` is the ratio and `x` is the times that we repeat the operation with x. When we define the PDF we have g(x, λ) = λe^(-xλ). How this \"transformation\" occurs?\n",
    "1. How to calculate the median and the mean of a exponential distribution?\n",
    "1. Why every distribution has the same appeareance (exponential distribution)? Exercise: Plot a exponential, and areto with the same parameters and see how much it is different."
   ]
  },
  {
   "cell_type": "code",
   "execution_count": 8,
   "metadata": {},
   "outputs": [
    {
     "name": "stdout",
     "output_type": "stream",
     "text": [
      "Growth Ratio:  0.0163863971553\n"
     ]
    },
    {
     "data": {
      "image/png": "[encoded data removed]",
      "text/plain": [
       "<matplotlib.figure.Figure at 0x7f76c1e7f278>"
      ]
     },
     "metadata": {},
     "output_type": "display_data"
    }
   ],
   "source": [
    "exp_dist = np.random.exponential(size=1000, scale=15)\n",
    "exp_series = pd.Series(exp_dist).sort_values().reset_index(drop=True)\n",
    "exp_series.plot()\n",
    "\n",
    "# Is this de CDF, the CCDF ou the PDF?\n",
    "print('Growth Ratio: ', exp_series.pct_change().mean())"
   ]
  },
  {
   "cell_type": "markdown",
   "metadata": {},
   "source": [
    "### 1.2 Pareto Distribution\n",
    "\n",
    "**Notes**\n",
    "\n",
    "1. A principal diferença entre a exponencial e o pareto que foi plotado nesse notebook é que uma cresce e a outra diminui. Dependendo dos parâmetros que são colocados tem como deixar isso diferente?\n",
    "1. Qual a principal diferença na implementação das duas curvas?"
   ]
  },
  {
   "cell_type": "code",
   "execution_count": 12,
   "metadata": {},
   "outputs": [
    {
     "data": {
      "image/png": "[encoded data removed]",
      "text/plain": [
       "<matplotlib.figure.Figure at 0x7f76c1f24908>"
      ]
     },
     "metadata": {},
     "output_type": "display_data"
    }
   ],
   "source": [
    "a, m = 3., 2.  # shape and mode\n",
    "s = (np.random.pareto(a, 1000) + 1) * m\n",
    "\n",
    "import matplotlib.pyplot as plt\n",
    "count, bins, _ = plt.hist(s, 100, normed=True)\n",
    "fit = a*m**a / bins**(a+1)\n",
    "plt.plot(bins, max(count)*fit/max(fit), linewidth=2, color='r')\n",
    "plt.show()"
   ]
  },
  {
   "cell_type": "code",
   "execution_count": null,
   "metadata": {},
   "outputs": [],
   "source": []
  }
 ],
 "metadata": {
  "kernelspec": {
   "display_name": "Python 3",
   "language": "python",
   "name": "python3"
  },
  "language_info": {
   "codemirror_mode": {
    "name": "ipython",
    "version": 3
   },
   "file_extension": ".py",
   "mimetype": "text/x-python",
   "name": "python",
   "nbconvert_exporter": "python",
   "pygments_lexer": "ipython3",
   "version": "3.5.3"
  }
 },
 "nbformat": 4,
 "nbformat_minor": 2
}
