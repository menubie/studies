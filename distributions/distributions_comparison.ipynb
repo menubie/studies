{
 "cells": [
  {
   "cell_type": "code",
   "execution_count": 1,
   "metadata": {},
   "outputs": [],
   "source": [
    "%matplotlib inline\n",
    "\n",
    "import numpy as np\n",
    "import pandas as pd"
   ]
  },
  {
   "cell_type": "markdown",
   "metadata": {},
   "source": [
    "# Notes & Questions\n",
    "\n",
    "## 1. Supported on semi-infinite intervals, usually [0,∞)\n",
    "\n",
    "### 1.1 Exponential Distribution \n",
    "\n",
    "#### Notes\n",
    "\n",
    "1. A **Variável Aleatória** é uma função que, dado um **Evento** (altura das pessoas), irá mapear para cada item de um **Espaço Amostral** (conjunto de pessoas) diferentes **Valores Numéricos** (1.92m, 1.71m, etc...).\n",
    "1. Em outras palavras, sabendo que a altura das pessoas é representada por X, o conjunto de pessoas é representado por Ω (ômega maiúsculo) e uma pessoa específica é representada por ω (ômega minúsculo), uma variável aleatória pode ser entendida por: X(ω) → R. \n",
    "1. É possível calcular a probabilidade de ω - que pertence a Ω - estar dentro do intervalo: P(1,30 <= X < 1,40). A função que vai descrever essa probabilidade é a **Função Densidade de Probabilidade (FDP)**. A probabilidade da Variável Aleatória cair em uma faixa particular é dada pela integral da densidade (conhecida também por frequência relativa) dessa variável sobre tal faixa, delimitado pelo intervalo de interesse. Calculamos a integral pois queremos saber a área que esse intervalo abrange. Se pegarmos o intervalo inteiro, a probabilidade deverá ser igual a 1 (mesmo se for um intervalo super limitado?).\n",
    "1. Conseguimos obter a FDP derivando uma **Função Distribuição Acumulada**. A derivação é o processo em que bla.\n",
    "1. A Variável Aleatória pode ser (1) discreta, (2) contínua, (3) mista. \n",
    "\n",
    "#### Oi\n",
    "1. Dada essa definição, podemos pensar em: Dado um conjunto de Valores Numéricos, que vão de 1.95m a 3.00m, qual a probabilidade de um item de um Espaço Amostral estar mapeado nesse conjunto.\n",
    "1. The higher the size sample, the greater is the shape of the plot (is closer to the known pattern) \n",
    "1. CDF(x) = 1 - e^(-λx)\n",
    "1. PDF(x) = expon.pdf(x) = exp(-x) < Isso no SciPy\n",
    "\n",
    "#### Questions\n",
    "\n",
    "1. Is the growth ratio equivalent to the rate parameter?\n",
    "1. If we have a fixed and unique 'growth ratio', what is the factor that determines when the curve growth repentinaly?\n",
    "1. Where is common to see this kind of distribution?\n",
    "1. What is the function of scale parameter in the function `np.random.exponential`?\n",
    "1. Why the relation λ = 1/β is valid? (λ is rate parameter and β is the scale parameter)\n",
    "1. What is the PDF (probability density function)? \n",
    "1. The complement of CDF(x), the CCDF(x) is 1 - CDF(x). Why we use it?\n",
    "1. We know that the exponential function is defined by f(x) = A(r^x), where `A` is the initial value, `r` is the ratio and `x` is the times that we repeat the operation with x. When we define the PDF we have g(x, λ) = λe^(-xλ). How this \"transformation\" occurs?\n",
    "1. How to calculate the median and the mean of a exponential distribution?\n",
    "1. Why every distribution has the same appeareance (exponential distribution)? Exercise: Plot a exponential, and areto with the same parameters and see how much it is different.\n",
    "1. Eu posso chamar _\"O preço dos imóveis da Zona Sul de São Paulo\"_ de variável aleatória? Ou só pode ser chamado assim _\"Os valores resultantes de um dado que é jogado 100 vezes\"?_\n",
    "1. O que pode ser considerado uma variável aleatória e o que **não** pode ser considerado uma variável aleatória?\n",
    "\n",
    "### Referencias\n",
    "https://pt.wikipedia.org/wiki/Vari%C3%A1vel_aleat%C3%B3ria"
   ]
  },
  {
   "cell_type": "code",
   "execution_count": 2,
   "metadata": {},
   "outputs": [
    {
     "name": "stdout",
     "output_type": "stream",
     "text": [
      "Growth Ratio:  0.318558155447\n"
     ]
    },
    {
     "data": {
      "image/png": "[encoded data removed]",
      "text/plain": [
       "<matplotlib.figure.Figure at 0x7f856b8bfe80>"
      ]
     },
     "metadata": {},
     "output_type": "display_data"
    }
   ],
   "source": [
    "exp_dist = np.random.exponential(size=20, scale=15)\n",
    "exp_series = pd.Series(exp_dist).sort_values().reset_index(drop=True)\n",
    "exp_series.plot()\n",
    "\n",
    "# Is this de CDF, the CCDF ou the PDF?\n",
    "print('Growth Ratio: ', exp_series.pct_change().mean())"
   ]
  },
  {
   "cell_type": "code",
   "execution_count": 11,
   "metadata": {},
   "outputs": [
    {
     "data": {
      "text/plain": [
       "[0.62995366770324568,\n",
       " 0.69517331237862645,\n",
       " 2.0185536183898765,\n",
       " 3.6051117876537839,\n",
       " 4.0421225113235897,\n",
       " 8.4596146479657506,\n",
       " 8.6278555903836249,\n",
       " 10.151279661475462,\n",
       " 10.41714212196543,\n",
       " 15.669098070762777,\n",
       " 15.756351699363378,\n",
       " 16.216848916357314,\n",
       " 16.637541618273705,\n",
       " 17.056281036544931,\n",
       " 19.159793654081849,\n",
       " 25.917676191409665,\n",
       " 26.804731319509045,\n",
       " 35.774972851809736,\n",
       " 48.767151446489251,\n",
       " 49.963632767220652]"
      ]
     },
     "execution_count": 11,
     "metadata": {},
     "output_type": "execute_result"
    }
   ],
   "source": [
    "# Isso aqui é uma amostra resultante de uma distruição exponencial. Se eu quiser falar da PDF dela, eu quero dizer:\n",
    "# Dado essa amostra, qual a probabilidade de eu achar o número 5, por exemplo?\n",
    "sorted(exp_dist)"
   ]
  },
  {
   "cell_type": "markdown",
   "metadata": {},
   "source": [
    "### 1.2 Pareto Distribution\n",
    "\n",
    "**Notes**\n",
    "\n",
    "1. A principal diferença entre a exponencial e o pareto que foi plotado nesse notebook é que uma cresce e a outra diminui. Dependendo dos parâmetros que são colocados tem como deixar isso diferente?\n",
    "1. Qual a principal diferença na implementação das duas curvas?"
   ]
  },
  {
   "cell_type": "code",
   "execution_count": 12,
   "metadata": {},
   "outputs": [
    {
     "data": {
      "image/png": "[encoded data removed]",
      "text/plain": [
       "<matplotlib.figure.Figure at 0x7f76c1f24908>"
      ]
     },
     "metadata": {},
     "output_type": "display_data"
    }
   ],
   "source": [
    "a, m = 3., 2.  # shape and mode\n",
    "s = (np.random.pareto(a, 1000) + 1) * m\n",
    "\n",
    "import matplotlib.pyplot as plt\n",
    "count, bins, _ = plt.hist(s, 100, normed=True)\n",
    "fit = a*m**a / bins**(a+1)\n",
    "plt.plot(bins, max(count)*fit/max(fit), linewidth=2, color='r')\n",
    "plt.show()"
   ]
  },
  {
   "cell_type": "code",
   "execution_count": null,
   "metadata": {},
   "outputs": [],
   "source": []
  }
 ],
 "metadata": {
  "kernelspec": {
   "display_name": "Python 3",
   "language": "python",
   "name": "python3"
  },
  "language_info": {
   "codemirror_mode": {
    "name": "ipython",
    "version": 3
   },
   "file_extension": ".py",
   "mimetype": "text/x-python",
   "name": "python",
   "nbconvert_exporter": "python",
   "pygments_lexer": "ipython3",
   "version": "3.5.3"
  }
 },
 "nbformat": 4,
 "nbformat_minor": 2
}
